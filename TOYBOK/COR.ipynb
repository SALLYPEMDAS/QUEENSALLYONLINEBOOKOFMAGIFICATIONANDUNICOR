{
 "cells": [
  {
   "cell_type": "code",
   "execution_count": 43,
   "metadata": {},
   "outputs": [
    {
     "name": "stdout",
     "output_type": "stream",
     "text": [
      "DNG DNG\n"
     ]
    }
   ],
   "source": [
    "print(\"DNG DNG\")"
   ]
  },
  {
   "cell_type": "code",
   "execution_count": 44,
   "metadata": {},
   "outputs": [],
   "source": [
    "ABC = [[\"A\", \"I\", \"Q\", \"Y\"], [\"B\", \"J\", \"R\", \"Z\"], [\"C\", \"K\", \"S\"], [\"D\", \"L\", \"T\"], [\"E\", \"M\", \"U\"], [\"E\", \"N\", \"V\"], [\"G\", \"O\", \"W\"], [\"H\", \"P\", \"X\"]]"
   ]
  },
  {
   "cell_type": "code",
   "execution_count": 45,
   "metadata": {},
   "outputs": [
    {
     "name": "stdout",
     "output_type": "stream",
     "text": [
      "['S', 'E']\n"
     ]
    }
   ],
   "source": [
    "def gpx(seq, i):\n",
    "    grpz = []\n",
    "    j = 0\n",
    "    while (j < i):\n",
    "        grpz.append([])\n",
    "        j = j + 1\n",
    "\n",
    "    for j, _ in enumerate(seq):\n",
    "        k = j\n",
    "        while k >= i:\n",
    "            k = k - i\n",
    "        grpz[k].append(_)\n",
    "\n",
    "    return grpz\n",
    "\n",
    "print(gpx(\"SEED\", 2)[0])"
   ]
  },
  {
   "cell_type": "code",
   "execution_count": 46,
   "metadata": {},
   "outputs": [],
   "source": [
    "def ABCLookup():\n",
    "    ret = {}\n",
    "\n",
    "    for i, _ in enumerate(ABC):\n",
    "        for __ in _:\n",
    "            ret[__] = i\n",
    "            \n",
    "    return ret\n",
    "\n",
    "def lkpz(grpz):\n",
    "    ret = {}\n",
    "\n",
    "    for i, _ in enumerate(grpz):\n",
    "        for __ in _:\n",
    "            ret[__] = i\n",
    "            \n",
    "    return ret\n",
    "           \n",
    "           "
   ]
  },
  {
   "cell_type": "code",
   "execution_count": 47,
   "metadata": {},
   "outputs": [
    {
     "name": "stdout",
     "output_type": "stream",
     "text": [
      "['H', 'P', 'X']\n"
     ]
    }
   ],
   "source": [
    "print(ABC[7])"
   ]
  },
  {
   "cell_type": "code",
   "execution_count": 48,
   "metadata": {},
   "outputs": [
    {
     "data": {
      "text/plain": [
       "6"
      ]
     },
     "execution_count": 48,
     "metadata": {},
     "output_type": "execute_result"
    }
   ],
   "source": [
    "ABCLookup()[\"W\"]"
   ]
  },
  {
   "cell_type": "code",
   "execution_count": 49,
   "metadata": {},
   "outputs": [],
   "source": [
    "seqAZ = \"ABCDEFGHIJKLMNOPQRSTUVWXYZ\"\n",
    "seqZA = seqAZ[::-1]"
   ]
  },
  {
   "cell_type": "code",
   "execution_count": 50,
   "metadata": {},
   "outputs": [],
   "source": [
    "x = gpx(seqAZ, 8)\n",
    "t = gpx(seqZA, 8)"
   ]
  },
  {
   "cell_type": "code",
   "execution_count": 51,
   "metadata": {},
   "outputs": [
    {
     "name": "stdout",
     "output_type": "stream",
     "text": [
      "['F', 'N', 'V']\n",
      "['U', 'M', 'E']\n"
     ]
    }
   ],
   "source": [
    "print(x[5])\n",
    "print(t[5])"
   ]
  },
  {
   "cell_type": "code",
   "execution_count": 52,
   "metadata": {},
   "outputs": [
    {
     "name": "stdout",
     "output_type": "stream",
     "text": [
      "['A', 'I', 'Q', 'Y']\n",
      "['Z', 'R', 'J', 'B']\n"
     ]
    }
   ],
   "source": [
    "print(x[0])\n",
    "print(t[0])"
   ]
  },
  {
   "cell_type": "code",
   "execution_count": 94,
   "metadata": {},
   "outputs": [],
   "source": [
    "def wrdToDec(s, lkp):\n",
    "    s = s.upper()\n",
    "    fart = \"\"\n",
    "    for _ in s:\n",
    "        fart = fart + str(lkp[_])\n",
    "        \n",
    "    return int(fart)\n",
    "\n",
    "def defaultGrpLen():\n",
    "    return 8\n",
    "\n",
    "\n",
    "def codzeifyWord(s, grpLen = defaultGrpLen()):\n",
    "    s = s.upper()\n",
    "    azLkp = lkpz(gpx(seqAZ, grpLen))\n",
    "    zaLkp = lkpz(gpx(seqZA, grpLen))\n",
    "    \n",
    "    ret = { \"WRD\": s }\n",
    "    \n",
    "    azDec = wrdToDec(s, azLkp)\n",
    "    ret[\"AZ\"] = {\"DEC\": azDec, \"BIN\": str(bin(azDec))[2:]}\n",
    "    \n",
    "    zaDec = wrdToDec(s, zaLkp)\n",
    "    ret[\"ZA\"] = {\"DEC\": zaDec, \"BIN\": str(bin(zaDec))[2:]}\n",
    "    \n",
    "    return ret\n",
    "    \n",
    "def printCodze(z):\n",
    "    print(z[\"WRD\"])\n",
    "    \n",
    "    #TODO(QS): PAD FRONT DEC, ALSO POSSIBLY PADLEN ARG\n",
    "    print(z[\"AZ\"][\"DEC\"])\n",
    "    print(z[\"ZA\"][\"DEC\"])\n",
    "    \n",
    "    ab = z[\"AZ\"][\"BIN\"]\n",
    "    zb = z[\"ZA\"][\"BIN\"]\n",
    "    \n",
    "    maxLen = len(ab)\n",
    "    if len(zb) > maxLen:\n",
    "        maxLen = len(zb)\n",
    "        \n",
    "    def getPad(padMe, padTo):\n",
    "        pad = \"\"\n",
    "        if len(padMe) < padTo:\n",
    "            ws = padTo - len(padMe)\n",
    "            i = 0\n",
    "            while (i < ws):\n",
    "                pad = pad + \"0\"\n",
    "                i = i + 1\n",
    "    \n",
    "        return pad\n",
    "    \n",
    "    print(getPad(ab, maxLen) + ab)\n",
    "    print(getPad(zb, maxLen) + zb)\n",
    "    \n",
    "\n",
    "    "
   ]
  },
  {
   "cell_type": "code",
   "execution_count": 95,
   "metadata": {},
   "outputs": [
    {
     "name": "stdout",
     "output_type": "stream",
     "text": [
      "SALLY\n",
      "20330\n",
      "71661\n",
      "00100111101101010\n",
      "10001011111101101\n"
     ]
    }
   ],
   "source": [
    "z = codzeifyWord(\"SALLY\")\n",
    "\n",
    "printCodze(z)"
   ]
  },
  {
   "cell_type": "code",
   "execution_count": null,
   "metadata": {},
   "outputs": [],
   "source": []
  },
  {
   "cell_type": "code",
   "execution_count": null,
   "metadata": {},
   "outputs": [],
   "source": []
  }
 ],
 "metadata": {
  "kernelspec": {
   "display_name": "Python 3",
   "language": "python",
   "name": "python3"
  },
  "language_info": {
   "codemirror_mode": {
    "name": "ipython",
    "version": 3
   },
   "file_extension": ".py",
   "mimetype": "text/x-python",
   "name": "python",
   "nbconvert_exporter": "python",
   "pygments_lexer": "ipython3",
   "version": "3.6.9"
  }
 },
 "nbformat": 4,
 "nbformat_minor": 2
}
