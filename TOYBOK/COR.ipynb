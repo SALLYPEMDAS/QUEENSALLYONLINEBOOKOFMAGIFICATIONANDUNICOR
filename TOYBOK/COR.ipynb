{
 "cells": [
  {
   "cell_type": "code",
   "execution_count": 17,
   "metadata": {},
   "outputs": [],
   "source": [
    "import numpy as np\n",
    "import matplotlib.pyplot as plt\n",
    "import matplotlib.cm as cm\n",
    "import re\n",
    "\n",
    "\n",
    "%matplotlib inline"
   ]
  },
  {
   "cell_type": "code",
   "execution_count": 18,
   "metadata": {},
   "outputs": [
    {
     "name": "stdout",
     "output_type": "stream",
     "text": [
      "BANANA\n"
     ]
    }
   ],
   "source": [
    "def squished(s):\n",
    "    s = s.upper()\n",
    "    quished = \"\"\n",
    "    prev = \"\"\n",
    "    def isIgnoredChar(_):\n",
    "        patterns = '^[a-zA-Z0-9_]*$'\n",
    "        if re.search(patterns,  _):\n",
    "            return False\n",
    "        return True\n",
    "    for _ in s:\n",
    "        if isIgnoredChar(_) != True and _ != prev:\n",
    "            quished = quished + _\n",
    "            prev = _\n",
    "            \n",
    "    return quished\n",
    "\n",
    "print(squished(\"bananna\"))\n"
   ]
  },
  {
   "cell_type": "code",
   "execution_count": 19,
   "metadata": {},
   "outputs": [
    {
     "name": "stdout",
     "output_type": "stream",
     "text": [
      "RAINBOV\n"
     ]
    }
   ],
   "source": [
    "def U2V(s):\n",
    "    ret = \"\"\n",
    "    s = s.upper()\n",
    "    for _ in s:\n",
    "        if _ == \"U\":\n",
    "            ret = ret + \"V\"\n",
    "            continue\n",
    "        if _ == \"W\":\n",
    "            ret = ret + \"V\"\n",
    "            continue\n",
    "        ret = ret + _\n",
    "        \n",
    "    return ret\n",
    "\n",
    "print(U2V(\"rainboW\"))"
   ]
  },
  {
   "cell_type": "code",
   "execution_count": 20,
   "metadata": {},
   "outputs": [
    {
     "ename": "NameError",
     "evalue": "name 'TWR' is not defined",
     "output_type": "error",
     "traceback": [
      "\u001b[0;31m---------------------------------------------------------------------------\u001b[0m",
      "\u001b[0;31mNameError\u001b[0m                                 Traceback (most recent call last)",
      "\u001b[0;32m<ipython-input-20-e7efc4b1012e>\u001b[0m in \u001b[0;36m<module>\u001b[0;34m()\u001b[0m\n\u001b[1;32m     37\u001b[0m \u001b[0;34m\u001b[0m\u001b[0m\n\u001b[1;32m     38\u001b[0m \u001b[0;34m\u001b[0m\u001b[0m\n\u001b[0;32m---> 39\u001b[0;31m \u001b[0mTWR\u001b[0m\u001b[0;34m(\u001b[0m\u001b[0;34m\"WASHINGTON DC\"\u001b[0m\u001b[0;34m)\u001b[0m\u001b[0;34m\u001b[0m\u001b[0;34m\u001b[0m\u001b[0m\n\u001b[0m\u001b[1;32m     40\u001b[0m \u001b[0mTWR\u001b[0m\u001b[0;34m(\u001b[0m\u001b[0;34m\"APPLE\"\u001b[0m\u001b[0;34m)\u001b[0m\u001b[0;34m\u001b[0m\u001b[0;34m\u001b[0m\u001b[0m\n\u001b[1;32m     41\u001b[0m \u001b[0mTWR\u001b[0m\u001b[0;34m(\u001b[0m\u001b[0;34m\"BANANNA\"\u001b[0m\u001b[0;34m)\u001b[0m\u001b[0;34m\u001b[0m\u001b[0;34m\u001b[0m\u001b[0m\n",
      "\u001b[0;31mNameError\u001b[0m: name 'TWR' is not defined"
     ]
    }
   ],
   "source": [
    "def PRINTWR(s):\n",
    "    s = s.upper()\n",
    "    squish = \"\"\n",
    "    prev = \"\"\n",
    "\n",
    "    def isIgnoredChar(_):\n",
    "        patterns = '^[a-zA-Z0-9_]*$'\n",
    "        if re.search(patterns,  _):\n",
    "                return False\n",
    "        \n",
    "        return True\n",
    "    \n",
    "    for _ in s:\n",
    "        if isIgnoredChar(_) != True and _ != prev:\n",
    "            squish = squish + _\n",
    "            prev = _\n",
    "    i = 0\n",
    "    level = \"\"\n",
    "    for _ in squish:\n",
    "        #TODO CONFIG TOWER WIDTH\n",
    "        if i % 3 == 0:\n",
    "            i = 0\n",
    "            print(level)\n",
    "            level = \"\"\n",
    "        i = i + 1\n",
    "            \n",
    "        level = level + _\n",
    "            \n",
    "            #WE CAN MAKE THIS MORE DYNAMIC LATER FOR RANDO SORTA PADEND\n",
    "    if len(level) == 1:\n",
    "        print(level + \"XZ\")\n",
    "    if len(level) == 2:\n",
    "        print(level + \"X\")\n",
    "    if len(level) == 3:\n",
    "        print(level)\n",
    "    print(\"\\n\" + squish + \"\\n\\n\")\n",
    "\n",
    "    \n",
    "TWR(\"WASHINGTON DC\")\n",
    "TWR(\"APPLE\")\n",
    "TWR(\"BANANNA\")\n",
    "TWR('                    - WHO ELSE SEEN THE LEPRECHAUN?SAY \"YEAH\"!')"
   ]
  },
  {
   "cell_type": "code",
   "execution_count": 21,
   "metadata": {},
   "outputs": [
    {
     "name": "stdout",
     "output_type": "stream",
     "text": [
      "W\n",
      "A\n",
      "S\n",
      "H\n",
      "I\n",
      "N\n",
      "G\n",
      "T\n",
      "O\n",
      "N\n",
      "D\n",
      "C\n",
      "\n",
      "A\n",
      "P\n",
      "L\n",
      "E\n",
      "\n",
      "B\n",
      "A\n",
      "N\n",
      "A\n",
      "N\n",
      "A\n",
      "\n",
      "W\n",
      "H\n",
      "O\n",
      "E\n",
      "L\n",
      "S\n",
      "E\n",
      "S\n",
      "E\n",
      "N\n",
      "T\n",
      "H\n",
      "E\n",
      "L\n",
      "E\n",
      "P\n",
      "R\n",
      "E\n",
      "C\n",
      "H\n",
      "A\n",
      "U\n",
      "N\n",
      "S\n",
      "A\n",
      "Y\n",
      "E\n",
      "A\n",
      "H\n",
      "\n",
      "test\n"
     ]
    }
   ],
   "source": [
    "def MTRXTWER(s):\n",
    "    s = s.upper()\n",
    "    squish = \"\"\n",
    "    prev = \"\"\n",
    "\n",
    "    def isIgnoredChar(_):\n",
    "        patterns = '^[a-zA-Z0-9_]*$'\n",
    "        if re.search(patterns,  _):\n",
    "                return False\n",
    "        \n",
    "        return True\n",
    "    \n",
    "    for _ in s:\n",
    "        if isIgnoredChar(_) != True and _ != prev:\n",
    "            squish = squish + _\n",
    "            prev = _\n",
    "    i = 0\n",
    "    for _ in squish:\n",
    "        print(_)\n",
    "    print(\"\")\n",
    "    \n",
    "MTRXTWER(\"WASHINGTON DC\")\n",
    "MTRXTWER(\"APPLE\")\n",
    "MTRXTWER(\"BANANNA\")\n",
    "MTRXTWER('                    - WHO ELSE SEEN THE LEPRECHAUN?SAY \"YEAH\"!')\n",
    "print(\"test\")"
   ]
  },
  {
   "cell_type": "code",
   "execution_count": 22,
   "metadata": {},
   "outputs": [
    {
     "name": "stdout",
     "output_type": "stream",
     "text": [
      "['S', 'E']\n"
     ]
    }
   ],
   "source": [
    "def gpx(seq, i):\n",
    "    grpz = []\n",
    "    j = 0\n",
    "    while (j < i):\n",
    "        grpz.append([])\n",
    "        j = j + 1\n",
    "\n",
    "    for j, _ in enumerate(seq):\n",
    "        k = j\n",
    "        while k >= i:\n",
    "            k = k - i\n",
    "        grpz[k].append(_)\n",
    "\n",
    "    return grpz\n",
    "\n",
    "print(gpx(\"SEED\", 2)[0])"
   ]
  },
  {
   "cell_type": "code",
   "execution_count": 23,
   "metadata": {},
   "outputs": [],
   "source": [
    "def lkpz(grpz):\n",
    "    ret = {}\n",
    "\n",
    "    for i, _ in enumerate(grpz):\n",
    "        for __ in _:\n",
    "            ret[__] = i\n",
    "            \n",
    "    return ret"
   ]
  },
  {
   "cell_type": "code",
   "execution_count": null,
   "metadata": {},
   "outputs": [],
   "source": []
  },
  {
   "cell_type": "code",
   "execution_count": 24,
   "metadata": {},
   "outputs": [],
   "source": [
    "seqAZ = \"ABCDEFGHIJKLMNOPQRSTUVWXYZ\"\n",
    "seqZA = seqAZ[::-1]\n",
    "seqVVVAZ = \"ABCDEFGHIJKLMNOPQRSTVXYZ\"\n",
    "seqVVVZA = seqVVVAZ[::-1]"
   ]
  },
  {
   "cell_type": "code",
   "execution_count": 25,
   "metadata": {},
   "outputs": [],
   "source": [
    "x = gpx(seqAZ, 8)\n",
    "t = gpx(seqZA, 8)\n",
    "VA = gpx(seqVVVAZ, 3)\n",
    "VZ = gpx(seqVVVZA, 3)"
   ]
  },
  {
   "cell_type": "code",
   "execution_count": 26,
   "metadata": {},
   "outputs": [
    {
     "name": "stdout",
     "output_type": "stream",
     "text": [
      "['F', 'N', 'V']\n",
      "['U', 'M', 'E']\n"
     ]
    }
   ],
   "source": [
    "print(x[5])\n",
    "print(t[5])"
   ]
  },
  {
   "cell_type": "code",
   "execution_count": 27,
   "metadata": {},
   "outputs": [
    {
     "name": "stdout",
     "output_type": "stream",
     "text": [
      "['A', 'I', 'Q', 'Y']\n",
      "['Z', 'R', 'J', 'B']\n"
     ]
    }
   ],
   "source": [
    "print(x[0])\n",
    "print(t[0])"
   ]
  },
  {
   "cell_type": "code",
   "execution_count": 28,
   "metadata": {},
   "outputs": [],
   "source": [
    "def wrdToDec(s, lkp):\n",
    "    s = s.upper()\n",
    "    fart = \"\"\n",
    "    for _ in s:\n",
    "        fart = fart + str(lkp[_])\n",
    "        \n",
    "    return int(fart)\n",
    "\n",
    "def defaultGrpLen():\n",
    "    return 8\n",
    "\n",
    "\n",
    "def codzeifyWord(s, grpLen = defaultGrpLen()):\n",
    "    s = s.upper()\n",
    "    azLkp = lkpz(gpx(seqAZ, grpLen))\n",
    "    zaLkp = lkpz(gpx(seqZA, grpLen))\n",
    "    \n",
    "    ret = { \"WRD\": s }\n",
    "    \n",
    "    azDec = wrdToDec(s, azLkp)\n",
    "    ret[\"AZ\"] = {\"DEC\": azDec, \"BIN\": str(bin(azDec))[2:]}\n",
    "    \n",
    "    zaDec = wrdToDec(s, zaLkp)\n",
    "    ret[\"ZA\"] = {\"DEC\": zaDec, \"BIN\": str(bin(zaDec))[2:]}\n",
    "    \n",
    "    return ret\n",
    "    \n",
    "def printCodze(z):\n",
    "    print(z[\"WRD\"])\n",
    "    \n",
    "    #TODO(QS): PAD FRONT FOR DEC?\n",
    "    print(z[\"AZ\"][\"DEC\"])\n",
    "    print(z[\"ZA\"][\"DEC\"])\n",
    "    \n",
    "    ab = z[\"AZ\"][\"BIN\"]\n",
    "    zb = z[\"ZA\"][\"BIN\"]\n",
    "    \n",
    "    maxLen = len(ab)\n",
    "    if len(zb) > maxLen:\n",
    "        maxLen = len(zb)\n",
    "        \n",
    "    def getPad(padMe, padTo):\n",
    "        pad = \"\"\n",
    "        if len(padMe) < padTo:\n",
    "            ws = padTo - len(padMe)\n",
    "            i = 0\n",
    "            while (i < ws):\n",
    "                pad = pad + \"0\"\n",
    "                i = i + 1\n",
    "    \n",
    "        return pad\n",
    "    \n",
    "    abb = getPad(ab, maxLen) + ab\n",
    "    zbb = getPad(zb, maxLen) + zb\n",
    "    \n",
    "    print(abb)\n",
    "    print(zbb)\n",
    "\n",
    "    "
   ]
  },
  {
   "cell_type": "code",
   "execution_count": 29,
   "metadata": {},
   "outputs": [
    {
     "name": "stdout",
     "output_type": "stream",
     "text": [
      "SALLY\n",
      "20330\n",
      "71661\n",
      "00100111101101010\n",
      "10001011111101101\n"
     ]
    }
   ],
   "source": [
    "z = codzeifyWord(\"SALLY\")\n",
    "\n",
    "printCodze(z)"
   ]
  },
  {
   "cell_type": "code",
   "execution_count": null,
   "metadata": {},
   "outputs": [],
   "source": []
  },
  {
   "cell_type": "code",
   "execution_count": null,
   "metadata": {},
   "outputs": [],
   "source": []
  },
  {
   "cell_type": "code",
   "execution_count": 30,
   "metadata": {},
   "outputs": [
    {
     "data": {
      "image/png": "[encoded data removed]",
      "text/plain": [
       "<Figure size 432x288 with 2 Axes>"
      ]
     },
     "metadata": {},
     "output_type": "display_data"
    }
   ],
   "source": [
    "X = 100*np.random.rand(6,6)\n",
    "\n",
    "fig, ax = plt.subplots()\n",
    "i = ax.imshow(X, cmap=cm.jet, interpolation='nearest')\n",
    "fig.colorbar(i)\n",
    "\n",
    "plt.show()"
   ]
  },
  {
   "cell_type": "markdown",
   "metadata": {},
   "source": [
    "TODO\n",
    "\n",
    "* tower density\n",
    "* simple dualistic density (word -> dec number -> each digit of dec number goes to binary tocreate a density\n",
    "* nondualistic density (take the az and the za, and then do a digit from each letter in the word with both z and a to form a two digit decimal that then goes to binary for the density\")"
   ]
  },
  {
   "cell_type": "code",
   "execution_count": 31,
   "metadata": {},
   "outputs": [
    {
     "ename": "NameError",
     "evalue": "name 'TWR' is not defined",
     "output_type": "error",
     "traceback": [
      "\u001b[0;31m---------------------------------------------------------------------------\u001b[0m",
      "\u001b[0;31mNameError\u001b[0m                                 Traceback (most recent call last)",
      "\u001b[0;32m<ipython-input-31-e5c1fe047728>\u001b[0m in \u001b[0;36m<module>\u001b[0;34m()\u001b[0m\n\u001b[0;32m----> 1\u001b[0;31m \u001b[0mTWR\u001b[0m\u001b[0;34m(\u001b[0m\u001b[0;34m\"QUEENSALLYONLINEBOOKOFMAGIFICATIONANDUNICOR\"\u001b[0m\u001b[0;34m)\u001b[0m\u001b[0;34m\u001b[0m\u001b[0;34m\u001b[0m\u001b[0m\n\u001b[0m",
      "\u001b[0;31mNameError\u001b[0m: name 'TWR' is not defined"
     ]
    }
   ],
   "source": [
    "TWR(\"QUEENSALLYONLINEBOOKOFMAGIFICATIONANDUNICOR\")"
   ]
  },
  {
   "cell_type": "code",
   "execution_count": 32,
   "metadata": {
    "scrolled": true
   },
   "outputs": [
    {
     "ename": "NameError",
     "evalue": "name 'TWR' is not defined",
     "output_type": "error",
     "traceback": [
      "\u001b[0;31m---------------------------------------------------------------------------\u001b[0m",
      "\u001b[0;31mNameError\u001b[0m                                 Traceback (most recent call last)",
      "\u001b[0;32m<ipython-input-32-3d8f384ac0a2>\u001b[0m in \u001b[0;36m<module>\u001b[0;34m()\u001b[0m\n\u001b[0;32m----> 1\u001b[0;31m \u001b[0mTWR\u001b[0m\u001b[0;34m(\u001b[0m\u001b[0;34m\"THUNZERRY\"\u001b[0m\u001b[0;34m)\u001b[0m\u001b[0;34m\u001b[0m\u001b[0;34m\u001b[0m\u001b[0m\n\u001b[0m",
      "\u001b[0;31mNameError\u001b[0m: name 'TWR' is not defined"
     ]
    }
   ],
   "source": [
    "TWR(\"THUNZERRY\")"
   ]
  },
  {
   "cell_type": "code",
   "execution_count": null,
   "metadata": {},
   "outputs": [],
   "source": []
  },
  {
   "cell_type": "code",
   "execution_count": 71,
   "metadata": {},
   "outputs": [
    {
     "ename": "SyntaxError",
     "evalue": "invalid syntax (<ipython-input-71-3806561acc0b>, line 53)",
     "output_type": "error",
     "traceback": [
      "\u001b[0;36m  File \u001b[0;32m\"<ipython-input-71-3806561acc0b>\"\u001b[0;36m, line \u001b[0;32m53\u001b[0m\n\u001b[0;31m    trxtwrstr(twr):\u001b[0m\n\u001b[0m                   ^\u001b[0m\n\u001b[0;31mSyntaxError\u001b[0m\u001b[0;31m:\u001b[0m invalid syntax\n"
     ]
    }
   ],
   "source": [
    "def trxtwr(s, i = 1):\n",
    "    s = s.upper();\n",
    "    mid = []    \n",
    "    multi = []\n",
    "    j = 0\n",
    "    for D in squished(s):\n",
    "        if i == 1:\n",
    "            mid.append([D])\n",
    "            continue\n",
    "        j = j + 1\n",
    "        multi.append(D)\n",
    "        if len(multi) == i:\n",
    "            mid.append(multi)\n",
    "            print(multi)\n",
    "            multi = []\n",
    "            j = 0\n",
    "    print(\"multi\")\n",
    "    print(multi)\n",
    "    if len(multi) > 0:\n",
    "        while len(multi) < i:\n",
    "            multi.append(\"X\")\n",
    "            \n",
    "        mid.append(multi)\n",
    "    \n",
    "    return mid\n",
    "\n",
    "def trxtwr(s, i = 1):\n",
    "    s = s.upper();\n",
    "    mid = []    \n",
    "    multi = []\n",
    "    j = 0\n",
    "    for D in squished(s):\n",
    "        if i == 1:\n",
    "            mid.append([D])\n",
    "            continue\n",
    "        j = j + 1\n",
    "        multi.append(D)\n",
    "        if len(multi) == i:\n",
    "            mid.append(multi)\n",
    "            print(multi)\n",
    "            multi = []\n",
    "            j = 0\n",
    "    print(\"multi\")\n",
    "    print(multi)\n",
    "    if len(multi) > 0:\n",
    "        while len(multi) < i:\n",
    "            multi.append(\"X\")\n",
    "            \n",
    "        mid.append(multi)\n",
    "    \n",
    "    return mid\n",
    "\n",
    "trxtwrstr(twr):\n",
    "    r = \"\"\n",
    "    for l in t:\n",
    "        r = r + l + \"\\n\"\n",
    "    ret r\n",
    "\n",
    "def str2Dec(s, seq = seqAZ, grpLen = defaultGrpLen()):\n",
    "    #azLkp = lkpz(gpx(seqAZ, grpLen))\n",
    "    lkp = lkpz(gpx(seq, grpLen))\n",
    "        \n",
    "    return int(wrdToDec(s, lkp))\n",
    "\n",
    "def dec2Binary(i):\n",
    "    return str(bin(i))[2:]\n",
    "        \n",
    "\n",
    "def TD(twr):\n",
    "    binLayers = []\n",
    "    decLayers = []\n",
    "    \n",
    "    # after dec -> binary: treat binary representation as a decimal number and convert to binary again (latent level 0)\n",
    "    # 27 -> 11101 -> 10101101011101\n",
    "    embeded0 = []\n",
    "    embeded01 = []\n",
    "     \n",
    "    mtxE0 = []\n",
    "\n",
    "    for f in twr:\n",
    "        for _ in f:\n",
    "            d = str2Dec(_)\n",
    "            decLayers.append(d)\n",
    "    print(\"decimal\")    \n",
    "    print(decLayers)\n",
    "    for _ in decLayers:\n",
    "        print(str(_))\n",
    "    for _ in decLayers:\n",
    "        b = dec2Binary(_)\n",
    "        binLayers.append(b)\n",
    "    print(\"\\nbinary\")\n",
    "    print(binLayers);\n",
    "    for _ in binLayers:\n",
    "        print(_)\n",
    "    print(\"\\nembeded0\")\n",
    "    for _ in(binLayers):\n",
    "        embeded0.append(dec2Binary(int(_)))\n",
    "    print(embeded0)\n",
    "    for _ in embeded0:\n",
    "        print(_)\n",
    "    print(\"\\nembeded01\")\n",
    "    for _ in embeded0:\n",
    "        embeded01.appwend(dec2Binary(int(_)))\n",
    "    print(embeded01)\n",
    "    for _ in embeded01:\n",
    "        row = []\n",
    "        for __ in _:\n",
    "            row.append(__)\n",
    "        mtxE0.append(row)\n",
    "        \n",
    "    maxColCount = 0\n",
    "    for _ in mtxE0:\n",
    "        count = 0\n",
    "        for __ in _:\n",
    "            count = count +1\n",
    "        if maxColCount < count:\n",
    "            maxColCount = count\n",
    "    for _ in mtxE0:\n",
    "        toPad = maxColCount - len(_)\n",
    "        while(toPad > 0):\n",
    "            _.insert(0, \"0\")\n",
    "            toPad = toPad - 1\n",
    "\n",
    "    for _ in mtxE0:\n",
    "        for __ in _:\n",
    "            __ = float(__)\n",
    "    \n",
    "    mtxE0_array = np.array(mtxE0)\n",
    "    \n",
    "    fig, ax = plt.subplots()\n",
    "    i = ax.imshow(mtxE0_array, cmap=cm.jet, interpolation='nearest')\n",
    "    fig.colorbar(i)\n",
    "\n",
    "    plt.show()\n",
    "    \n",
    "    print(mtxE0)\n",
    "            \n",
    "        \n",
    "        \n",
    "TD(trxtwr(\"old blue shoe\"))\n",
    "\n"
   ]
  },
  {
   "cell_type": "code",
   "execution_count": 63,
   "metadata": {},
   "outputs": [
    {
     "name": "stdout",
     "output_type": "stream",
     "text": [
      "10101101011101\n"
     ]
    }
   ],
   "source": [
    "print(dec2Binary(11101))"
   ]
  },
  {
   "cell_type": "code",
   "execution_count": 64,
   "metadata": {},
   "outputs": [],
   "source": [
    "VVV = \"ABCDEFGHIJKLMNOPQRSTVXYZ\""
   ]
  },
  {
   "cell_type": "code",
   "execution_count": 65,
   "metadata": {},
   "outputs": [],
   "source": [
    "gVVV = gpx(VVV, 3)\n",
    "gVVVy = gpx(VVV, 8)"
   ]
  },
  {
   "cell_type": "code",
   "execution_count": 69,
   "metadata": {},
   "outputs": [
    {
     "name": "stdout",
     "output_type": "stream",
     "text": [
      "[['A', 'D', 'G', 'J', 'M', 'P', 'S', 'X'], ['B', 'E', 'H', 'K', 'N', 'Q', 'T', 'Y'], ['C', 'F', 'I', 'L', 'O', 'R', 'V', 'Z']]\n",
      "[['A', 'I', 'Q'], ['B', 'J', 'R'], ['C', 'K', 'S'], ['D', 'L', 'T'], ['E', 'M', 'V'], ['F', 'N', 'X'], ['G', 'O', 'Y'], ['H', 'P', 'Z']]\n"
     ]
    }
   ],
   "source": [
    "print(gVVV)\n",
    "print(gVVVy)"
   ]
  },
  {
   "cell_type": "code",
   "execution_count": 67,
   "metadata": {},
   "outputs": [
    {
     "name": "stdout",
     "output_type": "stream",
     "text": [
      "['D', 'I', 'N']\n",
      "['O', 'S', 'A']\n",
      "multi\n",
      "['U', 'R']\n",
      "[['D', 'I', 'N'], ['O', 'S', 'A'], ['U', 'R', 'X']]\n"
     ]
    }
   ],
   "source": [
    "print(trxtwrstr(trxtwr(\"dinosaur\", 3)))\n",
    "\n"
   ]
  },
  {
   "cell_type": "code",
   "execution_count": null,
   "metadata": {},
   "outputs": [],
   "source": []
  },
  {
   "cell_type": "code",
   "execution_count": null,
   "metadata": {},
   "outputs": [],
   "source": []
  },
  {
   "cell_type": "code",
   "execution_count": null,
   "metadata": {},
   "outputs": [],
   "source": []
  },
  {
   "cell_type": "code",
   "execution_count": null,
   "metadata": {},
   "outputs": [],
   "source": []
  }
 ],
 "metadata": {
  "kernelspec": {
   "display_name": "Python 3",
   "language": "python",
   "name": "python3"
  },
  "language_info": {
   "codemirror_mode": {
    "name": "ipython",
    "version": 3
   },
   "file_extension": ".py",
   "mimetype": "text/x-python",
   "name": "python",
   "nbconvert_exporter": "python",
   "pygments_lexer": "ipython3",
   "version": "3.6.9"
  }
 },
 "nbformat": 4,
 "nbformat_minor": 2
}
