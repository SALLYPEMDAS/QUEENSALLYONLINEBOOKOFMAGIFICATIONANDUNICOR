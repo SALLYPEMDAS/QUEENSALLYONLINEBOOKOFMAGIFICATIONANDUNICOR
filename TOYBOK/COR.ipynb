{
 "cells": [
  {
   "cell_type": "code",
   "execution_count": 1,
   "metadata": {},
   "outputs": [
    {
     "name": "stdout",
     "output_type": "stream",
     "text": [
      "DNG DNG\n"
     ]
    }
   ],
   "source": [
    "print(\"DNG DNG\")"
   ]
  },
  {
   "cell_type": "code",
   "execution_count": 39,
   "metadata": {},
   "outputs": [],
   "source": [
    "ABC = [[\"A\", \"I\", \"Q\", \"Y\"], [\"B\", \"J\", \"R\", \"Z\"], [\"C\", \"K\", \"S\"], [\"D\", \"L\", \"T\"], [\"E\", \"M\", \"U\"], [\"E\", \"N\", \"V\"], [\"G\", \"O\", \"W\"], [\"H\", \"P\", \"X\"]]"
   ]
  },
  {
   "cell_type": "code",
   "execution_count": null,
   "metadata": {},
   "outputs": [],
   "source": []
  },
  {
   "cell_type": "code",
   "execution_count": 40,
   "metadata": {},
   "outputs": [],
   "source": [
    "def ABCLookup():\n",
    "    ret = {}\n",
    "\n",
    "    for i, _ in enumerate(ABC):\n",
    "        for __ in _:\n",
    "            ret[__] = i\n",
    "            \n",
    "    return ret\n",
    "           "
   ]
  },
  {
   "cell_type": "code",
   "execution_count": 41,
   "metadata": {},
   "outputs": [
    {
     "name": "stdout",
     "output_type": "stream",
     "text": [
      "['H', 'P', 'X']\n"
     ]
    }
   ],
   "source": [
    "print(ABC[7])"
   ]
  },
  {
   "cell_type": "code",
   "execution_count": 42,
   "metadata": {},
   "outputs": [
    {
     "data": {
      "text/plain": [
       "6"
      ]
     },
     "execution_count": 42,
     "metadata": {},
     "output_type": "execute_result"
    }
   ],
   "source": [
    "ABCLookup()[\"W\"]"
   ]
  },
  {
   "cell_type": "code",
   "execution_count": null,
   "metadata": {},
   "outputs": [],
   "source": []
  }
 ],
 "metadata": {
  "kernelspec": {
   "display_name": "Python 3",
   "language": "python",
   "name": "python3"
  },
  "language_info": {
   "codemirror_mode": {
    "name": "ipython",
    "version": 3
   },
   "file_extension": ".py",
   "mimetype": "text/x-python",
   "name": "python",
   "nbconvert_exporter": "python",
   "pygments_lexer": "ipython3",
   "version": "3.6.9"
  }
 },
 "nbformat": 4,
 "nbformat_minor": 2
}
