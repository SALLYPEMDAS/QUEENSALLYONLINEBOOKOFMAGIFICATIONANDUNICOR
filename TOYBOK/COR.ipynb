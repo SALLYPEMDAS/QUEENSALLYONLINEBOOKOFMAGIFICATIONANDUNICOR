{
 "cells": [
  {
   "cell_type": "code",
   "execution_count": 75,
   "metadata": {},
   "outputs": [],
   "source": [
    "import numpy as np\n",
    "import matplotlib.pyplot as plt\n",
    "import matplotlib.cm as cm\n",
    "import re\n",
    "\n",
    "\n",
    "%matplotlib inline"
   ]
  },
  {
   "cell_type": "code",
   "execution_count": 90,
   "metadata": {},
   "outputs": [
    {
     "name": "stdout",
     "output_type": "stream",
     "text": [
      "bananna\n",
      "BANANNA\n",
      "BANANA\n"
     ]
    }
   ],
   "source": [
    "def squished(s):\n",
    "    print(s)\n",
    "    s = s.upper()\n",
    "    print(s)\n",
    "    quished = \"\"\n",
    "    prev = \"\"\n",
    "    def isIgnoredChar(_):\n",
    "        patterns = '^[a-zA-Z0-9_]*$'\n",
    "        if re.search(patterns,  _):\n",
    "            return False\n",
    "        return True\n",
    "    for _ in s:\n",
    "        if isIgnoredChar(_) != True and _ != prev:\n",
    "            quished = quished + _\n",
    "            prev = _\n",
    "            \n",
    "    return quished\n",
    "\n",
    "print(squished(\"bananna\"))\n"
   ]
  },
  {
   "cell_type": "code",
   "execution_count": null,
   "metadata": {},
   "outputs": [],
   "source": [
    "def U2V(s):\n",
    "    ret = \"\"\n",
    "    s = s.upper()\n",
    "    for _ in s:\n",
    "        if _ == \"U\":\n",
    "            ret = ret + \"V\"\n",
    "            continue\n",
    "        if _ == \"W\":\n",
    "            ret = ret + \"V\"\n",
    "            continue\n",
    "        ret = ret + _"
   ]
  },
  {
   "cell_type": "code",
   "execution_count": 77,
   "metadata": {},
   "outputs": [
    {
     "name": "stdout",
     "output_type": "stream",
     "text": [
      "\n",
      "WAS\n",
      "HIN\n",
      "GTO\n",
      "NDC\n",
      "\n",
      "WASHINGTONDC\n",
      "\n",
      "\n",
      "\n",
      "APL\n",
      "EXZ\n",
      "\n",
      "APLE\n",
      "\n",
      "\n",
      "\n",
      "BAN\n",
      "ANA\n",
      "\n",
      "BANANA\n",
      "\n",
      "\n",
      "\n",
      "WHO\n",
      "ELS\n",
      "ESE\n",
      "NTH\n",
      "ELE\n",
      "PRE\n",
      "CHA\n",
      "UNS\n",
      "AYE\n",
      "AHX\n",
      "\n",
      "WHOELSESENTHELEPRECHAUNSAYEAH\n",
      "\n",
      "\n"
     ]
    }
   ],
   "source": [
    "def PRINTWR(s):\n",
    "    s = s.upper()\n",
    "    squish = \"\"\n",
    "    prev = \"\"\n",
    "\n",
    "    def isIgnoredChar(_):\n",
    "        patterns = '^[a-zA-Z0-9_]*$'\n",
    "        if re.search(patterns,  _):\n",
    "                return False\n",
    "        \n",
    "        return True\n",
    "    \n",
    "    for _ in s:\n",
    "        if isIgnoredChar(_) != True and _ != prev:\n",
    "            squish = squish + _\n",
    "            prev = _\n",
    "    i = 0\n",
    "    level = \"\"\n",
    "    for _ in squish:\n",
    "        #TODO CONFIG TOWER WIDTH\n",
    "        if i % 3 == 0:\n",
    "            i = 0\n",
    "            print(level)\n",
    "            level = \"\"\n",
    "        i = i + 1\n",
    "            \n",
    "        level = level + _\n",
    "            \n",
    "            #WE CAN MAKE THIS MORE DYNAMIC LATER FOR RANDO SORTA PADEND\n",
    "    if len(level) == 1:\n",
    "        print(level + \"XZ\")\n",
    "    if len(level) == 2:\n",
    "        print(level + \"X\")\n",
    "    if len(level) == 3:\n",
    "        print(level)\n",
    "    print(\"\\n\" + squish + \"\\n\\n\")\n",
    "\n",
    "    \n",
    "TWR(\"WASHINGTON DC\")\n",
    "TWR(\"APPLE\")\n",
    "TWR(\"BANANNA\")\n",
    "TWR('                    - WHO ELSE SEEN THE LEPRECHAUN?SAY \"YEAH\"!')"
   ]
  },
  {
   "cell_type": "code",
   "execution_count": 78,
   "metadata": {},
   "outputs": [
    {
     "name": "stdout",
     "output_type": "stream",
     "text": [
      "W\n",
      "A\n",
      "S\n",
      "H\n",
      "I\n",
      "N\n",
      "G\n",
      "T\n",
      "O\n",
      "N\n",
      "D\n",
      "C\n",
      "\n",
      "A\n",
      "P\n",
      "L\n",
      "E\n",
      "\n",
      "B\n",
      "A\n",
      "N\n",
      "A\n",
      "N\n",
      "A\n",
      "\n",
      "W\n",
      "H\n",
      "O\n",
      "E\n",
      "L\n",
      "S\n",
      "E\n",
      "S\n",
      "E\n",
      "N\n",
      "T\n",
      "H\n",
      "E\n",
      "L\n",
      "E\n",
      "P\n",
      "R\n",
      "E\n",
      "C\n",
      "H\n",
      "A\n",
      "U\n",
      "N\n",
      "S\n",
      "A\n",
      "Y\n",
      "E\n",
      "A\n",
      "H\n",
      "\n",
      "test\n"
     ]
    }
   ],
   "source": [
    "def MTRXTWER(s):\n",
    "    s = s.upper()\n",
    "    squish = \"\"\n",
    "    prev = \"\"\n",
    "\n",
    "    def isIgnoredChar(_):\n",
    "        patterns = '^[a-zA-Z0-9_]*$'\n",
    "        if re.search(patterns,  _):\n",
    "                return False\n",
    "        \n",
    "        return True\n",
    "    \n",
    "    for _ in s:\n",
    "        if isIgnoredChar(_) != True and _ != prev:\n",
    "            squish = squish + _\n",
    "            prev = _\n",
    "    i = 0\n",
    "    for _ in squish:\n",
    "        print(_)\n",
    "    print(\"\")\n",
    "    \n",
    "MTRXTWER(\"WASHINGTON DC\")\n",
    "MTRXTWER(\"APPLE\")\n",
    "MTRXTWER(\"BANANNA\")\n",
    "MTRXTWER('                    - WHO ELSE SEEN THE LEPRECHAUN?SAY \"YEAH\"!')\n",
    "print(\"test\")"
   ]
  },
  {
   "cell_type": "code",
   "execution_count": 42,
   "metadata": {},
   "outputs": [
    {
     "name": "stdout",
     "output_type": "stream",
     "text": [
      "['S', 'E']\n"
     ]
    }
   ],
   "source": [
    "def gpx(seq, i):\n",
    "    grpz = []\n",
    "    j = 0\n",
    "    while (j < i):\n",
    "        grpz.append([])\n",
    "        j = j + 1\n",
    "\n",
    "    for j, _ in enumerate(seq):\n",
    "        k = j\n",
    "        while k >= i:\n",
    "            k = k - i\n",
    "        grpz[k].append(_)\n",
    "\n",
    "    return grpz\n",
    "\n",
    "print(gpx(\"SEED\", 2)[0])"
   ]
  },
  {
   "cell_type": "code",
   "execution_count": 16,
   "metadata": {},
   "outputs": [],
   "source": [
    "def lkpz(grpz):\n",
    "    ret = {}\n",
    "\n",
    "    for i, _ in enumerate(grpz):\n",
    "        for __ in _:\n",
    "            ret[__] = i\n",
    "            \n",
    "    return ret"
   ]
  },
  {
   "cell_type": "code",
   "execution_count": null,
   "metadata": {},
   "outputs": [],
   "source": []
  },
  {
   "cell_type": "code",
   "execution_count": 6,
   "metadata": {},
   "outputs": [
    {
     "data": {
      "text/plain": [
       "6"
      ]
     },
     "execution_count": 6,
     "metadata": {},
     "output_type": "execute_result"
    }
   ],
   "source": [
    "ABCLookup()[\"W\"]"
   ]
  },
  {
   "cell_type": "code",
   "execution_count": 7,
   "metadata": {},
   "outputs": [],
   "source": [
    "seqAZ = \"ABCDEFGHIJKLMNOPQRSTUVWXYZ\"\n",
    "seqZA = seqAZ[::-1]"
   ]
  },
  {
   "cell_type": "code",
   "execution_count": 8,
   "metadata": {},
   "outputs": [],
   "source": [
    "x = gpx(seqAZ, 8)\n",
    "t = gpx(seqZA, 8)"
   ]
  },
  {
   "cell_type": "code",
   "execution_count": 9,
   "metadata": {},
   "outputs": [
    {
     "name": "stdout",
     "output_type": "stream",
     "text": [
      "['F', 'N', 'V']\n",
      "['U', 'M', 'E']\n"
     ]
    }
   ],
   "source": [
    "print(x[5])\n",
    "print(t[5])"
   ]
  },
  {
   "cell_type": "code",
   "execution_count": 10,
   "metadata": {},
   "outputs": [
    {
     "name": "stdout",
     "output_type": "stream",
     "text": [
      "['A', 'I', 'Q', 'Y']\n",
      "['Z', 'R', 'J', 'B']\n"
     ]
    }
   ],
   "source": [
    "print(x[0])\n",
    "print(t[0])"
   ]
  },
  {
   "cell_type": "code",
   "execution_count": 24,
   "metadata": {},
   "outputs": [],
   "source": [
    "def wrdToDec(s, lkp):\n",
    "    s = s.upper()\n",
    "    fart = \"\"\n",
    "    for _ in s:\n",
    "        fart = fart + str(lkp[_])\n",
    "        \n",
    "    return int(fart)\n",
    "\n",
    "def defaultGrpLen():\n",
    "    return 8\n",
    "\n",
    "\n",
    "def codzeifyWord(s, grpLen = defaultGrpLen()):\n",
    "    s = s.upper()\n",
    "    azLkp = lkpz(gpx(seqAZ, grpLen))\n",
    "    zaLkp = lkpz(gpx(seqZA, grpLen))\n",
    "    \n",
    "    ret = { \"WRD\": s }\n",
    "    \n",
    "    azDec = wrdToDec(s, azLkp)\n",
    "    ret[\"AZ\"] = {\"DEC\": azDec, \"BIN\": str(bin(azDec))[2:]}\n",
    "    \n",
    "    zaDec = wrdToDec(s, zaLkp)\n",
    "    ret[\"ZA\"] = {\"DEC\": zaDec, \"BIN\": str(bin(zaDec))[2:]}\n",
    "    \n",
    "    return ret\n",
    "    \n",
    "def printCodze(z):\n",
    "    print(z[\"WRD\"])\n",
    "    \n",
    "    #TODO(QS): PAD FRONT FOR DEC?\n",
    "    print(z[\"AZ\"][\"DEC\"])\n",
    "    print(z[\"ZA\"][\"DEC\"])\n",
    "    \n",
    "    ab = z[\"AZ\"][\"BIN\"]\n",
    "    zb = z[\"ZA\"][\"BIN\"]\n",
    "    \n",
    "    maxLen = len(ab)\n",
    "    if len(zb) > maxLen:\n",
    "        maxLen = len(zb)\n",
    "        \n",
    "    def getPad(padMe, padTo):\n",
    "        pad = \"\"\n",
    "        if len(padMe) < padTo:\n",
    "            ws = padTo - len(padMe)\n",
    "            i = 0\n",
    "            while (i < ws):\n",
    "                pad = pad + \"0\"\n",
    "                i = i + 1\n",
    "    \n",
    "        return pad\n",
    "    \n",
    "    abb = getPad(ab, maxLen) + ab\n",
    "    zbb = getPad(zb, maxLen) + zb\n",
    "    \n",
    "    print(abb)\n",
    "    print(zbb)\n",
    "\n",
    "    "
   ]
  },
  {
   "cell_type": "code",
   "execution_count": 19,
   "metadata": {},
   "outputs": [
    {
     "name": "stdout",
     "output_type": "stream",
     "text": [
      "SALLY\n",
      "20330\n",
      "71661\n",
      "00100111101101010\n",
      "10001011111101101\n"
     ]
    }
   ],
   "source": [
    "z = codzeifyWord(\"SALLY\")\n",
    "\n",
    "printCodze(z)"
   ]
  },
  {
   "cell_type": "code",
   "execution_count": null,
   "metadata": {},
   "outputs": [],
   "source": []
  },
  {
   "cell_type": "code",
   "execution_count": null,
   "metadata": {},
   "outputs": [],
   "source": []
  },
  {
   "cell_type": "code",
   "execution_count": 17,
   "metadata": {},
   "outputs": [
    {
     "data": {
      "image/png": "[encoded data removed]",
      "text/plain": [
       "<Figure size 432x288 with 2 Axes>"
      ]
     },
     "metadata": {},
     "output_type": "display_data"
    }
   ],
   "source": [
    "X = 100*np.random.rand(6,6)\n",
    "\n",
    "fig, ax = plt.subplots()\n",
    "i = ax.imshow(X, cmap=cm.jet, interpolation='nearest')\n",
    "fig.colorbar(i)\n",
    "\n",
    "plt.show()"
   ]
  },
  {
   "cell_type": "markdown",
   "metadata": {},
   "source": [
    "TODO\n",
    "\n",
    "* tower density\n",
    "* simple dualistic density (word -> dec number -> each digit of dec number goes to binary tocreate a density\n",
    "* nondualistic density (take the az and the za, and then do a digit from each letter in the word with both z and a to form a two digit decimal that then goes to binary for the density\")"
   ]
  },
  {
   "cell_type": "code",
   "execution_count": 63,
   "metadata": {},
   "outputs": [
    {
     "name": "stdout",
     "output_type": "stream",
     "text": [
      "\n",
      "QUE\n",
      "NSA\n",
      "LYO\n",
      "NLI\n",
      "NEB\n",
      "OKO\n",
      "FMA\n",
      "GIF\n",
      "ICA\n",
      "TIO\n",
      "NAN\n",
      "DUN\n",
      "ICO\n",
      "RXZ\n",
      "\n",
      "QUENSALYONLINEBOKOFMAGIFICATIONANDUNICOR\n",
      "\n",
      "\n"
     ]
    }
   ],
   "source": [
    "TWR(\"QUEENSALLYONLINEBOOKOFMAGIFICATIONANDUNICOR\")"
   ]
  },
  {
   "cell_type": "code",
   "execution_count": 66,
   "metadata": {
    "scrolled": true
   },
   "outputs": [
    {
     "name": "stdout",
     "output_type": "stream",
     "text": [
      "\n",
      "THU\n",
      "NZE\n",
      "RYX\n",
      "\n",
      "THUNZERY\n",
      "\n",
      "\n"
     ]
    }
   ],
   "source": [
    "TWR(\"THUNZERRY\")"
   ]
  },
  {
   "cell_type": "code",
   "execution_count": null,
   "metadata": {},
   "outputs": [],
   "source": []
  }
 ],
 "metadata": {
  "kernelspec": {
   "display_name": "Python 3",
   "language": "python",
   "name": "python3"
  },
  "language_info": {
   "codemirror_mode": {
    "name": "ipython",
    "version": 3
   },
   "file_extension": ".py",
   "mimetype": "text/x-python",
   "name": "python",
   "nbconvert_exporter": "python",
   "pygments_lexer": "ipython3",
   "version": "3.6.9"
  }
 },
 "nbformat": 4,
 "nbformat_minor": 2
}
