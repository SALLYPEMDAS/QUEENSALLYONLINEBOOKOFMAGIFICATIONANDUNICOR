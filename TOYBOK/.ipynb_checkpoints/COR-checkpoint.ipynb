{
 "cells": [
  {
   "cell_type": "code",
   "execution_count": null,
   "metadata": {},
   "outputs": [],
   "source": [
    "print(\"DNG DNG\")"
   ]
  },
  {
   "cell_type": "code",
   "execution_count": null,
   "metadata": {},
   "outputs": [],
   "source": [
    "ABC = [[\"A\", \"I\", \"Q\", \"Y\"], [\"B\", \"J\", \"R\", \"Z\"], [\"C\", \"K\", \"S\"], [\"D\", \"L\", \"T\"], [\"E\", \"M\", \"U\"], [\"E\", \"N\", \"V\"], [\"G\", \"O\", \"W\"], [\"H\", \"P\", \"X\"]]"
   ]
  },
  {
   "cell_type": "code",
   "execution_count": 5,
   "metadata": {},
   "outputs": [
    {
     "name": "stdout",
     "output_type": "stream",
     "text": [
      "['S', 'E']\n"
     ]
    }
   ],
   "source": [
    "def gpx(seq, i):\n",
    "    grpz = []\n",
    "    j = 0\n",
    "    while (j < i):\n",
    "        grpz.append([])\n",
    "        j = j + 1\n",
    "\n",
    "    for j, _ in enumerate(seq):\n",
    "        k = j\n",
    "        while k >= i:\n",
    "            k = k - i\n",
    "        grpz[k].append(_)\n",
    "\n",
    "    return grpz\n",
    "\n",
    "print(gpx(\"SEED\", 2)[0])"
   ]
  },
  {
   "cell_type": "code",
   "execution_count": null,
   "metadata": {},
   "outputs": [],
   "source": [
    "def ABCLookup():\n",
    "    ret = {}\n",
    "\n",
    "    for i, _ in enumeate(ABC):\n",
    "        for __ in _:\n",
    "            ret[__] = i\n",
    "            \n",
    "    return ret\n",
    "           "
   ]
  },
  {
   "cell_type": "code",
   "execution_count": null,
   "metadata": {},
   "outputs": [],
   "source": [
    "print(ABC[7])"
   ]
  },
  {
   "cell_type": "code",
   "execution_count": null,
   "metadata": {},
   "outputs": [],
   "source": [
    "ABCLookup()[\"W\"]"
   ]
  },
  {
   "cell_type": "code",
   "execution_count": null,
   "metadata": {},
   "outputs": [],
   "source": []
  },
  {
   "cell_type": "code",
   "execution_count": 7,
   "metadata": {},
   "outputs": [],
   "source": [
    "x = gpx(\"ABCDEFGHIJKLMNOPQRSTUVWXYZ\", 8)"
   ]
  },
  {
   "cell_type": "code",
   "execution_count": 12,
   "metadata": {},
   "outputs": [
    {
     "name": "stdout",
     "output_type": "stream",
     "text": [
      "['F', 'M', 'T']\n"
     ]
    }
   ],
   "source": [
    "print(x[5])"
   ]
  },
  {
   "cell_type": "code",
   "execution_count": null,
   "metadata": {},
   "outputs": [],
   "source": []
  }
 ],
 "metadata": {
  "kernelspec": {
   "display_name": "Python 3",
   "language": "python",
   "name": "python3"
  },
  "language_info": {
   "codemirror_mode": {
    "name": "ipython",
    "version": 3
   },
   "file_extension": ".py",
   "mimetype": "text/x-python",
   "name": "python",
   "nbconvert_exporter": "python",
   "pygments_lexer": "ipython3",
   "version": "3.6.9"
  }
 },
 "nbformat": 4,
 "nbformat_minor": 2
}
